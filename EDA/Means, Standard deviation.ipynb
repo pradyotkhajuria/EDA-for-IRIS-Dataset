{
 "cells": [
  {
   "cell_type": "code",
   "execution_count": 1,
   "metadata": {},
   "outputs": [],
   "source": [
    "import matplotlib.pyplot as plt\n",
    "import numpy as np\n",
    "import pandas as pd"
   ]
  },
  {
   "cell_type": "code",
   "execution_count": 2,
   "metadata": {},
   "outputs": [],
   "source": [
    "iris=pd.read_csv('iris.csv')"
   ]
  },
  {
   "cell_type": "code",
   "execution_count": 8,
   "metadata": {},
   "outputs": [],
   "source": [
    "iris_setosa=iris.loc[iris['species']=='setosa']\n",
    "iris_versicolor=iris.loc[iris['species']=='versicolor']\n",
    "iris_virginica=iris.loc[iris['species']=='virginica']"
   ]
  },
  {
   "cell_type": "code",
   "execution_count": 9,
   "metadata": {},
   "outputs": [
    {
     "name": "stdout",
     "output_type": "stream",
     "text": [
      "Means:\n",
      "\n",
      "1.464\n",
      "2.4156862745098038\n",
      "4.26\n",
      "5.552\n"
     ]
    }
   ],
   "source": [
    "print(\"Means:\\n\")\n",
    "print(np.mean(iris_setosa['petal_length']))\n",
    "print(np.mean(np.append(iris_setosa['petal_length'],50)))\n",
    "print(np.mean(iris_versicolor['petal_length']))\n",
    "print(np.mean(iris_virginica['petal_length']))"
   ]
  },
  {
   "cell_type": "code",
   "execution_count": 5,
   "metadata": {},
   "outputs": [
    {
     "name": "stdout",
     "output_type": "stream",
     "text": [
      "Standard- Deviation\n",
      "0.5463478745268441\n",
      "0.17176728442867115\n",
      "0.4651881339845204\n"
     ]
    }
   ],
   "source": [
    "print('Standard- Deviation')\n",
    "print(np.std(iris_virginica['petal_length']))\n",
    "print(np.std(iris_setosa['petal_length']))\n",
    "print(np.std(iris_versicolor['petal_length']))"
   ]
  },
  {
   "cell_type": "code",
   "execution_count": null,
   "metadata": {},
   "outputs": [],
   "source": []
  }
 ],
 "metadata": {
  "kernelspec": {
   "display_name": "Python 3",
   "language": "python",
   "name": "python3"
  },
  "language_info": {
   "codemirror_mode": {
    "name": "ipython",
    "version": 3
   },
   "file_extension": ".py",
   "mimetype": "text/x-python",
   "name": "python",
   "nbconvert_exporter": "python",
   "pygments_lexer": "ipython3",
   "version": "3.7.1"
  }
 },
 "nbformat": 4,
 "nbformat_minor": 2
}
