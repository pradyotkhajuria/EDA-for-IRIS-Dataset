{
 "cells": [
  {
   "cell_type": "code",
   "execution_count": 36,
   "metadata": {},
   "outputs": [],
   "source": [
    "import matplotlib.pyplot as plt\n",
    "import numpy as np\n",
    "import pandas as pd\n",
    "from statsmodels import robust"
   ]
  },
  {
   "cell_type": "code",
   "execution_count": 2,
   "metadata": {},
   "outputs": [],
   "source": [
    "iris=pd.read_csv('iris.csv')"
   ]
  },
  {
   "cell_type": "code",
   "execution_count": 30,
   "metadata": {},
   "outputs": [],
   "source": [
    "iris_setosa=iris.loc[iris['species']=='setosa']\n",
    "iris_versicolor=iris.loc[iris['species']=='versicolor']\n",
    "iris_virginica=iris.loc[iris['species']=='virginica']"
   ]
  },
  {
   "cell_type": "code",
   "execution_count": 9,
   "metadata": {},
   "outputs": [
    {
     "name": "stdout",
     "output_type": "stream",
     "text": [
      "Median:\n",
      "\n",
      "1.5\n",
      "1.5\n",
      "4.35\n",
      "nan\n"
     ]
    },
    {
     "name": "stderr",
     "output_type": "stream",
     "text": [
      "/anaconda3/lib/python3.7/site-packages/numpy/core/fromnumeric.py:2920: RuntimeWarning: Mean of empty slice.\n",
      "  out=out, **kwargs)\n",
      "/anaconda3/lib/python3.7/site-packages/numpy/core/_methods.py:85: RuntimeWarning: invalid value encountered in double_scalars\n",
      "  ret = ret.dtype.type(ret / rcount)\n"
     ]
    }
   ],
   "source": [
    "print('Median:\\n')\n",
    "print(np.median(iris_setosa['petal_length']))\n",
    "print(np.median(np.append(iris_setosa['petal_length'],50)))\n",
    "print(np.median(iris_versicolor['petal_length']))\n",
    "print(np.median(iris_virginca['petal_length']))"
   ]
  },
  {
   "cell_type": "code",
   "execution_count": 32,
   "metadata": {},
   "outputs": [
    {
     "name": "stdout",
     "output_type": "stream",
     "text": [
      "Quantile:\n",
      "\n",
      "[1.    1.4   1.5   1.575]\n",
      "[3.   4.   4.35 4.6 ]\n",
      "[4.5   5.1   5.55  5.875]\n"
     ]
    }
   ],
   "source": [
    "print('Quantile:\\n')\n",
    "print(np.percentile(iris_setosa['petal_length'],np.arange(0,100,25)))\n",
    "print(np.percentile(iris_versicolor['petal_length'],np.arange(0,100,25)))\n",
    "print(np.percentile(iris_virginica['petal_length'],np.arange(0,100,25)))"
   ]
  },
  {
   "cell_type": "code",
   "execution_count": 34,
   "metadata": {},
   "outputs": [
    {
     "name": "stdout",
     "output_type": "stream",
     "text": [
      "Percentiles\n",
      "1.7\n",
      "6.3100000000000005\n",
      "4.8\n"
     ]
    }
   ],
   "source": [
    "print('Percentiles')\n",
    "print(np.percentile(iris_setosa['petal_length'],90))\n",
    "print(np.percentile(iris_virginica['petal_length'],90))\n",
    "print(np.percentile(iris_versicolor['petal_length'],90))"
   ]
  },
  {
   "cell_type": "code",
   "execution_count": 39,
   "metadata": {},
   "outputs": [
    {
     "name": "stdout",
     "output_type": "stream",
     "text": [
      "\n",
      "Median Absolute Deviation:\n",
      "0.14826022185056031\n",
      "0.5189107764769602\n",
      "0.6671709983275211\n"
     ]
    }
   ],
   "source": [
    "print('\\nMedian Absolute Deviation:')\n",
    "print(robust.mad(iris_setosa['petal_length']))\n",
    "print(robust.mad(iris_versicolor['petal_length']))\n",
    "print(robust.mad(iris_virginica['petal_length']))"
   ]
  },
  {
   "cell_type": "code",
   "execution_count": null,
   "metadata": {},
   "outputs": [],
   "source": []
  }
 ],
 "metadata": {
  "kernelspec": {
   "display_name": "Python 3",
   "language": "python",
   "name": "python3"
  },
  "language_info": {
   "codemirror_mode": {
    "name": "ipython",
    "version": 3
   },
   "file_extension": ".py",
   "mimetype": "text/x-python",
   "name": "python",
   "nbconvert_exporter": "python",
   "pygments_lexer": "ipython3",
   "version": "3.7.1"
  }
 },
 "nbformat": 4,
 "nbformat_minor": 2
}
